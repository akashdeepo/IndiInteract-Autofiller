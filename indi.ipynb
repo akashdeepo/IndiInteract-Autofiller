{
 "cells": [
  {
   "cell_type": "code",
   "execution_count": null,
   "metadata": {},
   "outputs": [],
   "source": [
    "from selenium import webdriver\n",
    "from selenium.webdriver.common.by import By\n",
    "from selenium.common.exceptions import NoSuchElementException\n",
    "import pandas as pd\n",
    "import time\n",
    "\n",
    "# Options to connect to existing Chrome session\n",
    "chrome_options = webdriver.ChromeOptions()\n",
    "chrome_options.add_experimental_option(\"debuggerAddress\", \"127.0.0.1:9222\")\n",
    "\n",
    "# Connect to existing Chrome session\n",
    "driver = webdriver.Chrome(executable_path=r'C:\\Users\\Downloads\\chromedriver_win32\\chromedriver.exe', options=chrome_options)\n",
    "\n",
    "# Read the CSV file\n",
    "df = pd.read_csv('Indi-Interact - Sheet1.csv')\n",
    "\n",
    "# Loop through each row of the CSV\n",
    "for index, row in df.iterrows():\n",
    "    try:\n",
    "        # Navigate to the Roompact form\n",
    "        driver.get('https://roompact.com/forms/#/form/72l4')\n",
    "\n",
    "        # Fill out the form\n",
    "        try:\n",
    "            driver.find_element(By.NAME, 'ResidentName').send_keys(row['Resident 1'])\n",
    "            driver.find_element(By.NAME, 'DateOfYourConversation').send_keys(row['Date of Interaction 1'])\n",
    "            driver.find_element(By.NAME, 'SummaryNotes').send_keys(row['Interaction 1'])\n",
    "        except NoSuchElementException:\n",
    "            print(f\"Element not found while filling the form for Resident: {row['Resident 1']}\")\n",
    "\n",
    "        # Check Learning Outcomes\n",
    "        learning_outcomes = row['Learning Outcome(s) 1'].split(', ')\n",
    "        for outcome in learning_outcomes:\n",
    "            try:\n",
    "                driver.find_element(By.NAME, outcome).click()\n",
    "            except NoSuchElementException:\n",
    "                print(f\"Learning outcome '{outcome}' not found.\")\n",
    "\n",
    "        # Submit the form if needed\n",
    "        # Uncomment this line if you want to submit\n",
    "        # driver.find_element(By.NAME, 'submitButtonNameHere').click()\n",
    "\n",
    "        print(f\"Successfully filled form for Resident: {row['Resident 1']}\")\n",
    "\n",
    "        # Pause to slow down the loop\n",
    "        time.sleep(5)\n",
    "        \n",
    "    except Exception as e:\n",
    "        print(f\"An error occurred: {e}\")\n",
    "\n",
    "# Close the driver if you wish\n",
    "# driver.quit()\n"
   ]
  }
 ],
 "metadata": {
  "kernelspec": {
   "display_name": "Python 3",
   "language": "python",
   "name": "python3"
  },
  "language_info": {
   "codemirror_mode": {
    "name": "ipython",
    "version": 3
   },
   "file_extension": ".py",
   "mimetype": "text/x-python",
   "name": "python",
   "nbconvert_exporter": "python",
   "pygments_lexer": "ipython3",
   "version": "3.10.4"
  },
  "orig_nbformat": 4
 },
 "nbformat": 4,
 "nbformat_minor": 2
}
