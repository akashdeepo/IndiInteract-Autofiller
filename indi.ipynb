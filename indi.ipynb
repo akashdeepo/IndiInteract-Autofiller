from selenium import webdriver
from selenium.webdriver.common.by import By
from selenium.common.exceptions import NoSuchElementException
import pandas as pd
import time

# Options to connect to existing Chrome session
chrome_options = webdriver.ChromeOptions()
chrome_options.add_experimental_option("debuggerAddress", "127.0.0.1:9222")

# Connect to existing Chrome session
driver = webdriver.Chrome(executable_path=r'C:\Users\chromedriver_win32\chromedriver.exe', options=chrome_options)

# Read the CSV file
df = pd.read_csv('Indi-Interact - Sheet1.csv')

# Loop through each row of the CSV
for index, row in df.iterrows():
    try:
        # Navigate to the Roompact form
        driver.get('https://roompact.com/forms/#/form/2l4')

        # Fill out the form
        try:
            driver.find_element(By.NAME, 'ResidentName').send_keys(row['Resident 1'])
            driver.find_element(By.NAME, 'DateOfYourConversation').send_keys(row['Date of Interaction 1'])
            driver.find_element(By.NAME, 'SummaryNotes').send_keys(row['Interaction 1'])
        except NoSuchElementException:
            print(f"Element not found while filling the form for Resident: {row['Resident 1']}")

        # Check Learning Outcomes
        learning_outcomes = row['Learning Outcome(s) 1'].split(', ')
        for outcome in learning_outcomes:
            try:
                driver.find_element(By.NAME, outcome).click()
            except NoSuchElementException:
                print(f"Learning outcome '{outcome}' not found.")

        # Submit the form if needed
        # Uncomment this line if you want to submit
        # driver.find_element(By.NAME, 'submitButtonNameHere').click()

        print(f"Successfully filled form for Resident: {row['Resident 1']}")

        # Pause to slow down the loop
        time.sleep(5)
        
    except Exception as e:
        print(f"An error occurred: {e}")

# Close the driver if you wish
# driver.quit()
